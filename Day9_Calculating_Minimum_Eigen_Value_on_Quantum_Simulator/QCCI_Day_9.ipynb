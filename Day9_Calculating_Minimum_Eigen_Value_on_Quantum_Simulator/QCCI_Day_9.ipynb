{
 "cells": [
  {
   "cell_type": "code",
   "execution_count": 2,
   "metadata": {},
   "outputs": [],
   "source": [
    "from qiskit import QuantumRegister, ClassicalRegister\n",
    "from qiskit import QuantumCircuit, execute, Aer\n",
    "import pennylane as qml\n",
    "import numpy as np\n",
    "from numpy import pi\n",
    "simulator = Aer.get_backend('qasm_simulator')\n"
   ]
  },
  {
   "cell_type": "code",
   "execution_count": 192,
   "metadata": {},
   "outputs": [],
   "source": [
    "M = np.matrix([[5,3+7j],[3-7j,10]])"
   ]
  },
  {
   "cell_type": "code",
   "execution_count": 193,
   "metadata": {},
   "outputs": [
    {
     "data": {
      "text/plain": [
       "matrix([[ 5.+0.j,  3.+7.j],\n",
       "        [ 3.-7.j, 10.+0.j]])"
      ]
     },
     "execution_count": 193,
     "metadata": {},
     "output_type": "execute_result"
    }
   ],
   "source": [
    "M"
   ]
  },
  {
   "cell_type": "code",
   "execution_count": 194,
   "metadata": {},
   "outputs": [],
   "source": [
    "coeffs, obs_list = qml.utils.decompose_hamiltonian(M)\n",
    "H = qml.Hamiltonian(coeffs, obs_list)"
   ]
  },
  {
   "cell_type": "code",
   "execution_count": 195,
   "metadata": {},
   "outputs": [
    {
     "name": "stdout",
     "output_type": "stream",
     "text": [
      "(7.5) [I0]\n",
      "+ (3.0) [X0]\n",
      "+ (-7.0) [Y0]\n",
      "+ (-2.5) [Z0]\n"
     ]
    }
   ],
   "source": [
    "print(H)"
   ]
  },
  {
   "cell_type": "code",
   "execution_count": 196,
   "metadata": {},
   "outputs": [],
   "source": [
    "a = 7.5\n",
    "b = 3\n",
    "c = -7\n",
    "d = -2.5"
   ]
  },
  {
   "cell_type": "code",
   "execution_count": 135,
   "metadata": {},
   "outputs": [],
   "source": [
    "backend_state = Aer.get_backend('statevector_simulator')"
   ]
  },
  {
   "cell_type": "code",
   "execution_count": 136,
   "metadata": {},
   "outputs": [
    {
     "data": {
      "text/plain": [
       "array([ 0.87758256+0.j        , -0.19951142+0.43594041j])"
      ]
     },
     "execution_count": 136,
     "metadata": {},
     "output_type": "execute_result"
    }
   ],
   "source": [
    "qc = QuantumCircuit(1)\n",
    "qc.u3(1,2,3,0)\n",
    "\n",
    "\n",
    "result = execute(qc,backend_state).result()\n",
    "out_state = result.get_statevector()\n",
    "out_state"
   ]
  },
  {
   "cell_type": "code",
   "execution_count": 13,
   "metadata": {},
   "outputs": [
    {
     "data": {
      "text/html": [
       "<pre style=\"word-wrap: normal;white-space: pre;background: #fff0;line-height: 1.1;font-family: &quot;Courier New&quot;,Courier,monospace\">     ┌───────────┐\n",
       "q_0: ┤ U3(1,2,3) ├\n",
       "     └───────────┘</pre>"
      ],
      "text/plain": [
       "     ┌───────────┐\n",
       "q_0: ┤ U3(1,2,3) ├\n",
       "     └───────────┘"
      ]
     },
     "execution_count": 13,
     "metadata": {},
     "output_type": "execute_result"
    }
   ],
   "source": [
    "qc.draw()"
   ]
  },
  {
   "cell_type": "code",
   "execution_count": 186,
   "metadata": {},
   "outputs": [],
   "source": [
    "num_shots = 100000"
   ]
  },
  {
   "cell_type": "code",
   "execution_count": 95,
   "metadata": {},
   "outputs": [],
   "source": [
    "def expt_z(qc):\n",
    "    \n",
    "    qc1 = qc.copy()\n",
    "    qc1.measure_all()\n",
    "    \n",
    "    result = execute(qc1, backend = simulator, shots = num_shots).result()\n",
    "    counts = result.get_counts(qc1)\n",
    "    #print(counts)\n",
    "    if '1' not in counts:\n",
    "        counts['1'] = 0\n",
    "    if '0' not in counts:\n",
    "        counts['0'] = 0\n",
    "    z_expect = (counts['0']- counts['1'])/(counts['0']+ counts['1'])\n",
    "    \n",
    "    return(z_expect)\n",
    "    "
   ]
  },
  {
   "cell_type": "code",
   "execution_count": 96,
   "metadata": {},
   "outputs": [
    {
     "data": {
      "text/plain": [
       "0.5412"
      ]
     },
     "execution_count": 96,
     "metadata": {},
     "output_type": "execute_result"
    }
   ],
   "source": [
    "expt_z(qc)"
   ]
  },
  {
   "cell_type": "code",
   "execution_count": 97,
   "metadata": {},
   "outputs": [],
   "source": [
    "def expt_x(qc):\n",
    "    \n",
    "    qc1 = qc.copy()\n",
    "    # we have a state |psi> here \n",
    "    \n",
    "    qc1.h(0)\n",
    "    #now its been transformend to |psi'>\n",
    "    \n",
    "    \n",
    "    qc1.measure_all()\n",
    "    \n",
    "    result = execute(qc1, backend = simulator, shots = num_shots).result()\n",
    "    counts = result.get_counts(qc1)\n",
    "    #print(counts)\n",
    "    \n",
    "    if '1' not in counts:\n",
    "        counts['1'] = 0\n",
    "    if '0' not in counts:\n",
    "        counts['0'] = 0\n",
    "    x_expect = (counts['0']- counts['1'])/(counts['0']+ counts['1'])\n",
    "    \n",
    "    return(x_expect)"
   ]
  },
  {
   "cell_type": "code",
   "execution_count": 98,
   "metadata": {},
   "outputs": [
    {
     "data": {
      "text/plain": [
       "-0.3498"
      ]
     },
     "execution_count": 98,
     "metadata": {},
     "output_type": "execute_result"
    }
   ],
   "source": [
    "expt_x(qc)"
   ]
  },
  {
   "cell_type": "code",
   "execution_count": 101,
   "metadata": {},
   "outputs": [],
   "source": [
    "def expt_y(qc):\n",
    "    \n",
    "    qc1 = qc.copy()\n",
    "    # we have state |psi>\n",
    "    qc1.rz(-pi/2,0)\n",
    "    qc1.h(0)\n",
    "    \n",
    "    # Now its in state |psi''>\n",
    "    \n",
    "    \n",
    "    qc1.measure_all()\n",
    "\n",
    "    \n",
    "    result = execute(qc1, backend = simulator, shots = num_shots).result()\n",
    "    counts = result.get_counts(qc1)\n",
    "    #print(counts)\n",
    "    \n",
    "    if '1' not in counts:\n",
    "        counts['1'] = 0\n",
    "    if '0' not in counts:\n",
    "        counts['0'] = 0\n",
    "    y_expect = (counts['0']- counts['1'])/(counts['0']+ counts['1'])\n",
    "    \n",
    "    return(y_expect)"
   ]
  },
  {
   "cell_type": "code",
   "execution_count": 102,
   "metadata": {},
   "outputs": [
    {
     "data": {
      "text/plain": [
       "0.759"
      ]
     },
     "execution_count": 102,
     "metadata": {},
     "output_type": "execute_result"
    }
   ],
   "source": [
    "expt_y(qc)"
   ]
  },
  {
   "cell_type": "code",
   "execution_count": 103,
   "metadata": {},
   "outputs": [],
   "source": [
    "E_M = 1*1+2*expt_x(qc)"
   ]
  },
  {
   "cell_type": "code",
   "execution_count": 104,
   "metadata": {},
   "outputs": [
    {
     "data": {
      "text/plain": [
       "0.27"
      ]
     },
     "execution_count": 104,
     "metadata": {},
     "output_type": "execute_result"
    }
   ],
   "source": [
    "E_M"
   ]
  },
  {
   "cell_type": "code",
   "execution_count": 105,
   "metadata": {},
   "outputs": [],
   "source": [
    "psi = [ 0.87758256+0.j        , -0.19951142+0.43594041j]"
   ]
  },
  {
   "cell_type": "code",
   "execution_count": 106,
   "metadata": {},
   "outputs": [],
   "source": [
    "psi_t = [[ 0.87758256+0.j        ],[ -0.19951142-0.43594041j]]"
   ]
  },
  {
   "cell_type": "code",
   "execution_count": 107,
   "metadata": {},
   "outputs": [
    {
     "data": {
      "text/plain": [
       "matrix([[1, 2],\n",
       "        [2, 1]])"
      ]
     },
     "execution_count": 107,
     "metadata": {},
     "output_type": "execute_result"
    }
   ],
   "source": [
    "M"
   ]
  },
  {
   "cell_type": "code",
   "execution_count": 108,
   "metadata": {},
   "outputs": [
    {
     "data": {
      "text/plain": [
       "matrix([[0.29964903+1.11022302e-16j]])"
      ]
     },
     "execution_count": 108,
     "metadata": {},
     "output_type": "execute_result"
    }
   ],
   "source": [
    "np.dot(psi,np.dot(M,psi_t))"
   ]
  },
  {
   "cell_type": "code",
   "execution_count": 137,
   "metadata": {},
   "outputs": [],
   "source": [
    "def e_m(qc):\n",
    "    val = a+b*expt_x(qc)+c*expt_y(qc)+d*expt_z(qc)\n",
    "    return(val)"
   ]
  },
  {
   "cell_type": "code",
   "execution_count": 138,
   "metadata": {},
   "outputs": [
    {
     "data": {
      "text/plain": [
       "-1.1978"
      ]
     },
     "execution_count": 138,
     "metadata": {},
     "output_type": "execute_result"
    }
   ],
   "source": [
    "e_m(qc)"
   ]
  },
  {
   "cell_type": "code",
   "execution_count": 139,
   "metadata": {},
   "outputs": [],
   "source": [
    "params = [0,0,0]"
   ]
  },
  {
   "cell_type": "code",
   "execution_count": 140,
   "metadata": {},
   "outputs": [],
   "source": [
    "def rand_psi(param):\n",
    "    qc = QuantumCircuit(1)\n",
    "    qc.u3(param[0],param[1],param[2],0)\n",
    "    return(qc)"
   ]
  },
  {
   "cell_type": "code",
   "execution_count": null,
   "metadata": {},
   "outputs": [],
   "source": []
  },
  {
   "cell_type": "code",
   "execution_count": 141,
   "metadata": {},
   "outputs": [],
   "source": [
    "# we got varying |psi>\n",
    "# we got what to minimize\n",
    "# we need the algo"
   ]
  },
  {
   "cell_type": "code",
   "execution_count": 197,
   "metadata": {},
   "outputs": [],
   "source": [
    "def cost(params):\n",
    "    val = a+b*expt_x( rand_psi(params))+c*expt_y(rand_psi(params))+d*expt_z(rand_psi(params))\n",
    "    return(val)\n",
    "    "
   ]
  },
  {
   "cell_type": "code",
   "execution_count": 198,
   "metadata": {},
   "outputs": [
    {
     "data": {
      "text/plain": [
       "4.97952"
      ]
     },
     "execution_count": 198,
     "metadata": {},
     "output_type": "execute_result"
    }
   ],
   "source": [
    "cost([0,0,0])"
   ]
  },
  {
   "cell_type": "code",
   "execution_count": 199,
   "metadata": {},
   "outputs": [],
   "source": [
    "from qiskit.aqua.components.optimizers import COBYLA\n",
    "\n",
    "optimizer = COBYLA(50,0.01)"
   ]
  },
  {
   "cell_type": "code",
   "execution_count": 200,
   "metadata": {},
   "outputs": [],
   "source": [
    "ret = optimizer.optimize(num_vars=3, objective_function=cost, initial_point=params)"
   ]
  },
  {
   "cell_type": "code",
   "execution_count": 201,
   "metadata": {},
   "outputs": [
    {
     "data": {
      "text/plain": [
       "(array([1.25561834, 1.96104797, 0.92832713]), -0.5031400000000004, 49)"
      ]
     },
     "execution_count": 201,
     "metadata": {},
     "output_type": "execute_result"
    }
   ],
   "source": [
    "ret"
   ]
  },
  {
   "cell_type": "code",
   "execution_count": 175,
   "metadata": {},
   "outputs": [],
   "source": [
    "param_lest_cost = ret[0]"
   ]
  },
  {
   "cell_type": "code",
   "execution_count": 203,
   "metadata": {},
   "outputs": [
    {
     "data": {
      "text/plain": [
       "-0.5305100000000008"
      ]
     },
     "execution_count": 203,
     "metadata": {},
     "output_type": "execute_result"
    }
   ],
   "source": [
    "cost(ret[0])"
   ]
  },
  {
   "cell_type": "code",
   "execution_count": null,
   "metadata": {},
   "outputs": [],
   "source": []
  },
  {
   "cell_type": "code",
   "execution_count": null,
   "metadata": {},
   "outputs": [],
   "source": []
  }
 ],
 "metadata": {
  "kernelspec": {
   "display_name": "Python 3",
   "language": "python",
   "name": "python3"
  },
  "language_info": {
   "codemirror_mode": {
    "name": "ipython",
    "version": 3
   },
   "file_extension": ".py",
   "mimetype": "text/x-python",
   "name": "python",
   "nbconvert_exporter": "python",
   "pygments_lexer": "ipython3",
   "version": "3.7.1"
  }
 },
 "nbformat": 4,
 "nbformat_minor": 4
}
